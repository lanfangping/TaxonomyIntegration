{
 "cells": [
  {
   "attachments": {},
   "cell_type": "markdown",
   "metadata": {},
   "source": [
    " # Human-annotated portion of dataset (~5k samples)"
   ]
  },
  {
   "cell_type": "code",
   "execution_count": 3,
   "metadata": {},
   "outputs": [],
   "source": [
    "import json, random\n",
    "import utils_diff\n",
    "\n",
    "with open(\"data/swipe_train.json\", \"r\") as f: # See: data/swipe_val.json, data/swipe_test_id.json, data/swipe_test_ood.json for the validation, in-domain test, and out-of-domain test sets\n",
    "    swipe_train = json.load(f)\n",
    "\n",
    "sample = random.choice(swipe_train)"
   ]
  },
  {
   "cell_type": "code",
   "execution_count": 4,
   "metadata": {},
   "outputs": [
    {
     "name": "stdout",
     "output_type": "stream",
     "text": [
      "Page Pairing: [En Wiki: Epsom; Revision ID: 1006880447] [Simple Wiki: Epsom; Revision ID: 3865189]\n",
      "---- Here is the edit sequence to go from the original page to the simplified page ----\n",
      "Legend: Green text is added in the simple page, red text is deleted from the original page\n",
      "---\n",
      "Epsom is\u001b[1;31mthe principal\u001b[0m\u001b[1;32ma\u001b[0m town\u001b[1;31mof the Borough of Epsom and Ewell\u001b[0m in\u001b[1;32mnorthern\u001b[0m Surrey\u001b[1;31m, England, approximately 13.5 mi(21.7 km) south of Charing Cross and 4.75 mi(7.64 km) northeast of Leatherhead\u001b[0m. The town is\u001b[1;31mrecorded as Ebbesham in\u001b[0m\u001b[1;32mknown for its race course and\u001b[0m the\u001b[1;31m13th century and its name probably derives from that of a Saxon landowner\u001b[0m\u001b[1;32mhorse race held there\u001b[0m.\u001b[1;31mFounded as a spring line settlement where the permeable chalk of the North Downs meets the impermeable London Clay, Epsom developed as a spa town in the Georgian period. The mineral waters were found to be rich in magnesium sulphate, which became known as Epsom salts. Epsom station is an important railway junction, where lines to London Victoria and London Waterloo diverge. Each year, on the first Saturday in June, Epsom Downs Racecourse holds The Derby, the most prestigious of the five Classic flat season horse races. Big batty nikki uno.\u001b[0m\n"
     ]
    }
   ],
   "source": [
    "print(\"Page Pairing: [En Wiki: %s; Revision ID: %s] [Simple Wiki: %s; Revision ID: %s]\" % (sample[\"r_page\"], sample[\"r_revid\"], sample[\"s_page\"], sample[\"s_revid\"]))\n",
    "\n",
    "# Raw text of En page: sample[\"r_content\"]\n",
    "# Raw text of Simple page: sample[\"s_content\"]\n",
    "\n",
    "edits = sample[\"edits\"] # Can be recreated through: `utils_diff.get_edit_operations(sample[\"r_content\"], sample[\"s_content\"], split_replace=True, split_sentences=True)`\n",
    "\n",
    "print(\"---- Here is the edit sequence to go from the original page to the simplified page ----\")\n",
    "print(\"Legend: Green text is added in the simple page, red text is deleted from the original page\")\n",
    "print(\"---\")\n",
    "print(utils_diff.make_colored_text(sample[\"r_content\"], sample[\"s_content\"]))"
   ]
  },
  {
   "cell_type": "code",
   "execution_count": 9,
   "metadata": {},
   "outputs": [
    {
     "data": {
      "text/plain": [
       "[{'gi': 0, 'opis': [1], 'category': 'syntactic_generic'},\n",
       " {'opis': [2], 'category': 'semantic_deletion'},\n",
       " {'opis': [4], 'category': 'semantic_deletion'},\n",
       " {'gi': 3, 'opis': [6], 'category': 'semantic_elaboration_background'},\n",
       " {'opis': [8, 9, 10, 11, 12], 'category': 'semantic_deletion'},\n",
       " {'gi': 5, 'opis': [14, 17], 'category': 'nonsim_extraneous_information'},\n",
       " {'gi': 6,\n",
       "  'opis': [15, 18, 20, 21, 22, 23],\n",
       "  'category': 'semantic_elaboration_generic'},\n",
       " {'opis': [24], 'category': 'nonsim_noise_deletion'}]"
      ]
     },
     "execution_count": 9,
     "metadata": {},
     "output_type": "execute_result"
    }
   ],
   "source": [
    "# Annotation format specifies each edit group through the operation index (opi) of the category assigned to the group\n",
    "sample[\"annotations\"]"
   ]
  },
  {
   "cell_type": "code",
   "execution_count": 7,
   "metadata": {},
   "outputs": [
    {
     "name": "stdout",
     "output_type": "stream",
     "text": [
      "There are a total of 8 identified groups.\n",
      "[syntactic_generic             ] Epsom is\u001b[1;32ma\u001b[0m [...]\n",
      "[semantic_deletion             ] [...] \u001b[1;31mthe principal\u001b[0m town [...]\n",
      "[semantic_deletion             ] [...] town\u001b[1;31mof the Borough of Epsom and Ewell\u001b[0m in [...]\n",
      "[semantic_elaboration_background] [...] in\u001b[1;32mnorthern\u001b[0m Surrey [...]\n",
      "[semantic_deletion             ] [...] Surrey\u001b[1;31m, England, approximately 13.\u001b[0m\u001b[1;31m5 mi(21.\u001b[0m\u001b[1;31m7 km) south of Charing Cross and 4.\u001b[0m\u001b[1;31m75 mi(7.\u001b[0m\u001b[1;31m64 km) northeast of Leatherhead\u001b[0m. The town is [...]\n",
      "[nonsim_extraneous_information ] [...] . The town is\u001b[1;32mknown for its race course and\u001b[0m\u001b[1;31mrecorded as Ebbesham in\u001b[0m the\u001b[1;32mhorse race held there\u001b[0m [...]\n",
      "[semantic_elaboration_generic  ] [...] \u001b[1;31mrecorded as Ebbesham in\u001b[0m the\u001b[1;32mhorse race held there\u001b[0m\u001b[1;31m13th century and its name probably derives from that of a Saxon landowner\u001b[0m.\u001b[1;31mFounded as a spring line settlement where the permeable chalk of the North Downs meets the impermeable London Clay, Epsom developed as a spa town in the Georgian period.\u001b[0m\u001b[1;31m The mineral waters were found to be rich in magnesium sulphate, which became known as Epsom salts.\u001b[0m\u001b[1;31m Epsom station is an important railway junction, where lines to London Victoria and London Waterloo diverge.\u001b[0m\u001b[1;31m Each year, on the first Saturday in June, Epsom Downs Racecourse holds The Derby, the most prestigious of the five Classic flat season horse races.\u001b[0m [...]\n",
      "[nonsim_noise_deletion         ] [...] \u001b[1;31m Big batty nikki uno.\u001b[0m\n"
     ]
    }
   ],
   "source": [
    "# To visualize what each group correspond to, use the utils_vis module\n",
    "from utils_vis import visualize_edit_groups\n",
    "\n",
    "visualize_edit_groups(sample[\"r_content\"], sample[\"s_content\"], sample[\"annotations\"])"
   ]
  },
  {
   "cell_type": "code",
   "execution_count": 8,
   "metadata": {},
   "outputs": [
    {
     "name": "stdout",
     "output_type": "stream",
     "text": [
      "{'type': 'equal', 'text': 'Epsom is', 'N_words': 2}\n",
      "{'type': 'insert', 'insert': 'a', 'N_words': 1}\n",
      "{'type': 'delete', 'delete': 'the principal', 'N_words': 2}\n",
      "{'type': 'equal', 'text': 'town', 'N_words': 1}\n",
      "{'type': 'delete', 'delete': 'of the Borough of Epsom and Ewell', 'N_words': 7}\n",
      "{'type': 'equal', 'text': 'in', 'N_words': 1}\n",
      "{'type': 'insert', 'insert': 'northern', 'N_words': 1}\n",
      "{'type': 'equal', 'text': 'Surrey', 'N_words': 1}\n",
      "{'type': 'delete', 'delete': ', England, approximately 13.', 'N_words': 4}\n",
      "{'type': 'delete', 'delete': '5\\xa0mi(21.', 'N_words': 1}\n",
      "{'type': 'delete', 'delete': '7\\xa0km) south of Charing Cross and 4.', 'N_words': 7}\n",
      "{'type': 'delete', 'delete': '75\\xa0mi(7.', 'N_words': 1}\n",
      "{'type': 'delete', 'delete': '64\\xa0km) northeast of Leatherhead', 'N_words': 4}\n",
      "{'type': 'equal', 'text': '. The town is', 'N_words': 4}\n",
      "{'type': 'insert', 'insert': 'known for its race course and', 'N_words': 6}\n",
      "{'type': 'delete', 'delete': 'recorded as Ebbesham in', 'N_words': 4}\n",
      "{'type': 'equal', 'text': 'the', 'N_words': 1}\n",
      "{'type': 'insert', 'insert': 'horse race held there', 'N_words': 4}\n",
      "{'type': 'delete', 'delete': '13th century and its name probably derives from that of a Saxon landowner', 'N_words': 13}\n",
      "{'type': 'equal', 'text': '.', 'N_words': 1}\n",
      "{'type': 'delete', 'delete': 'Founded as a spring line settlement where the permeable chalk of the North Downs meets the impermeable London Clay, Epsom developed as a spa town in the Georgian period.', 'N_words': 29}\n",
      "{'type': 'delete', 'delete': ' The mineral waters were found to be rich in magnesium sulphate, which became known as Epsom salts.', 'N_words': 18}\n",
      "{'type': 'delete', 'delete': ' Epsom station is an important railway junction, where lines to London Victoria and London Waterloo diverge.', 'N_words': 17}\n",
      "{'type': 'delete', 'delete': ' Each year, on the first Saturday in June, Epsom Downs Racecourse holds The Derby, the most prestigious of the five Classic flat season horse races.', 'N_words': 26}\n",
      "{'type': 'delete', 'delete': ' Big batty nikki uno.', 'N_words': 5}\n"
     ]
    }
   ],
   "source": [
    "edits = utils_diff.get_edit_operations(sample[\"r_content\"], sample[\"s_content\"], split_replace=True, split_sentences=True)\n",
    "for edit in edits:\n",
    "    print(edit)"
   ]
  },
  {
   "cell_type": "code",
   "execution_count": 17,
   "metadata": {},
   "outputs": [
    {
     "name": "stdout",
     "output_type": "stream",
     "text": [
      "opi 1\n",
      "{'type': 'insert', 'insert': 'a', 'N_words': 1}\n",
      "N_tokens 1\n",
      "\n",
      ">>===========================\n",
      "before: \n",
      " after: a\n",
      "before_token_range: [2, 2]\n",
      "[]\n",
      "after_token_range: [2, 3]\n",
      "['a']\n",
      "===========================<<\n",
      "\n",
      "opi 2\n",
      "{'type': 'delete', 'delete': 'the principal', 'N_words': 2}\n",
      "N_tokens 2\n",
      "\n",
      ">>===========================\n",
      "before: the principal\n",
      " after: \n",
      "before_token_range: [2, 4]\n",
      "['the', 'principal']\n",
      "after_token_range: [3, 3]\n",
      "[]\n",
      "===========================<<\n",
      "\n",
      "opi 4\n",
      "{'type': 'delete', 'delete': 'of the Borough of Epsom and Ewell', 'N_words': 7}\n",
      "N_tokens 7\n",
      "\n",
      ">>===========================\n",
      "before: of the Borough of Epsom and Ewell\n",
      " after: \n",
      "before_token_range: [5, 12]\n",
      "['of', 'the', 'Borough', 'of', 'Epsom', 'and', 'Ewell']\n",
      "after_token_range: [4, 4]\n",
      "[]\n",
      "===========================<<\n",
      "\n",
      "opi 6\n",
      "{'type': 'insert', 'insert': 'northern', 'N_words': 1}\n",
      "N_tokens 1\n",
      "\n",
      ">>===========================\n",
      "before: \n",
      " after: northern\n",
      "before_token_range: [13, 13]\n",
      "[]\n",
      "after_token_range: [5, 6]\n",
      "['northern']\n",
      "===========================<<\n",
      "\n",
      "opi 8\n",
      "{'type': 'delete', 'delete': ', England, approximately 13.', 'N_words': 4}\n",
      "N_tokens 4\n",
      "opi 9\n",
      "{'type': 'delete', 'delete': '5\\xa0mi(21.', 'N_words': 1}\n",
      "N_tokens 1\n",
      "opi 10\n",
      "{'type': 'delete', 'delete': '7\\xa0km) south of Charing Cross and 4.', 'N_words': 7}\n",
      "N_tokens 7\n",
      "opi 11\n",
      "{'type': 'delete', 'delete': '75\\xa0mi(7.', 'N_words': 1}\n",
      "N_tokens 1\n",
      "opi 12\n",
      "{'type': 'delete', 'delete': '64\\xa0km) northeast of Leatherhead', 'N_words': 4}\n",
      "N_tokens 4\n",
      "\n",
      ">>===========================\n",
      "before: , England, approximately 13.5 mi(21.7 km) south of Charing Cross and 4.75 mi(7.64 km) northeast of Leatherhead\n",
      " after: \n",
      "before_token_range: [14, 31]\n",
      "[',', 'England', ',', 'approximately', '13', '.5\\xa0mi', '(21', '.7\\xa0km', ')', 'south', 'of', 'Charing', 'Cross', 'and', '4', '.75\\xa0mi', '(7']\n",
      "after_token_range: [7, 7]\n",
      "[]\n",
      "===========================<<\n",
      "\n",
      "opi 14\n",
      "{'type': 'insert', 'insert': 'known for its race course and', 'N_words': 6}\n",
      "N_tokens 6\n",
      "opi 15\n",
      "{'type': 'delete', 'delete': 'recorded as Ebbesham in', 'N_words': 4}\n",
      "N_tokens 4\n",
      "opi 16\n",
      "{'type': 'equal', 'text': 'the', 'N_words': 1}\n",
      "N_tokens 1\n",
      "opi 17\n",
      "{'type': 'insert', 'insert': 'horse race held there', 'N_words': 4}\n",
      "N_tokens 4\n",
      "\n",
      ">>===========================\n",
      "before: recorded as Ebbesham inthe\n",
      " after: known for its race course andthehorse race held there\n",
      "before_token_range: [35, 40]\n",
      "['Leatherhead', '.', 'The', 'town', 'is']\n",
      "after_token_range: [11, 22]\n",
      "['known', 'for', 'its', 'race', 'course', 'and', 'the', 'horse', 'race', 'held', 'there']\n",
      "===========================<<\n",
      "\n",
      "opi 15\n",
      "{'type': 'delete', 'delete': 'recorded as Ebbesham in', 'N_words': 4}\n",
      "N_tokens 4\n",
      "opi 16\n",
      "{'type': 'equal', 'text': 'the', 'N_words': 1}\n",
      "N_tokens 1\n",
      "opi 17\n",
      "{'type': 'insert', 'insert': 'horse race held there', 'N_words': 4}\n",
      "N_tokens 4\n",
      "opi 18\n",
      "{'type': 'delete', 'delete': '13th century and its name probably derives from that of a Saxon landowner', 'N_words': 13}\n",
      "N_tokens 13\n",
      "opi 19\n",
      "{'type': 'equal', 'text': '.', 'N_words': 1}\n",
      "N_tokens 1\n",
      "opi 20\n",
      "{'type': 'delete', 'delete': 'Founded as a spring line settlement where the permeable chalk of the North Downs meets the impermeable London Clay, Epsom developed as a spa town in the Georgian period.', 'N_words': 29}\n",
      "N_tokens 29\n",
      "opi 21\n",
      "{'type': 'delete', 'delete': ' The mineral waters were found to be rich in magnesium sulphate, which became known as Epsom salts.', 'N_words': 18}\n",
      "N_tokens 18\n",
      "opi 22\n",
      "{'type': 'delete', 'delete': ' Epsom station is an important railway junction, where lines to London Victoria and London Waterloo diverge.', 'N_words': 17}\n",
      "N_tokens 17\n",
      "opi 23\n",
      "{'type': 'delete', 'delete': ' Each year, on the first Saturday in June, Epsom Downs Racecourse holds The Derby, the most prestigious of the five Classic flat season horse races.', 'N_words': 26}\n",
      "N_tokens 26\n",
      "\n",
      ">>===========================\n",
      "before: recorded as Ebbesham inthe13th century and its name probably derives from that of a Saxon landowner.Founded as a spring line settlement where the permeable chalk of the North Downs meets the impermeable London Clay, Epsom developed as a spa town in the Georgian period. The mineral waters were found to be rich in magnesium sulphate, which became known as Epsom salts. Epsom station is an important railway junction, where lines to London Victoria and London Waterloo diverge. Each year, on the first Saturday in June, Epsom Downs Racecourse holds The Derby, the most prestigious of the five Classic flat season horse races.\n",
      " after: thehorse race held there.\n",
      "before_token_range: [35, 144]\n",
      "['Leatherhead', '.', 'The', 'town', 'is', 'recorded', 'as', 'Ebbesham', 'in', 'the', '13th', 'century', 'and', 'its', 'name', 'probably', 'derives', 'from', 'that', 'of', 'a', 'Saxon', 'landowner', '.', 'Founded', 'as', 'a', 'spring', 'line', 'settlement', 'where', 'the', 'permeable', 'chalk', 'of', 'the', 'North', 'Downs', 'meets', 'the', 'impermeable', 'London', 'Clay', ',', 'Epsom', 'developed', 'as', 'a', 'spa', 'town', 'in', 'the', 'Georgian', 'period', '.', 'The', 'mineral', 'waters', 'were', 'found', 'to', 'be', 'rich', 'in', 'magnesium', 'sulphate', ',', 'which', 'became', 'known', 'as', 'Epsom', 'salts', '.', 'Epsom', 'station', 'is', 'an', 'important', 'railway', 'junction', ',', 'where', 'lines', 'to', 'London', 'Victoria', 'and', 'London', 'Waterloo', 'diverge', '.', 'Each', 'year', ',', 'on', 'the', 'first', 'Saturday', 'in', 'June', ',', 'Epsom', 'Downs', 'Racecourse', 'holds', 'The', 'Derby', ',']\n",
      "after_token_range: [17, 23]\n",
      "['the', 'horse', 'race', 'held', 'there', '.']\n",
      "===========================<<\n",
      "\n",
      "opi 24\n",
      "{'type': 'delete', 'delete': ' Big batty nikki uno.', 'N_words': 5}\n",
      "N_tokens 5\n",
      "\n",
      ">>===========================\n",
      "before:  Big batty nikki uno.\n",
      " after: \n",
      "before_token_range: [144, 149]\n",
      "['the', 'most', 'prestigious', 'of', 'the']\n",
      "after_token_range: [23, 23]\n",
      "[]\n",
      "===========================<<\n",
      "\n"
     ]
    }
   ],
   "source": [
    "for edit_group in sample[\"annotations\"]:\n",
    "    category = edit_group['category']\n",
    "    opis = edit_group['opis']\n",
    "    min_opi, max_opi = min(opis), max(opis)\n",
    "    before_sentence, after_sentence = \"\", \"\"\n",
    "    before, after = \"\", \"\"\n",
    "    before_N_tokens, after_N_tokens = 0, 0\n",
    "\n",
    "    for opi in range(min_opi):\n",
    "        edit = edits[opi]\n",
    "        N_tokens = edit['N_words']\n",
    "        if edit['type'] == 'delete':\n",
    "            before_N_tokens += N_tokens\n",
    "        elif edit['type'] == 'insert':\n",
    "            after_N_tokens += N_tokens\n",
    "        else:\n",
    "            before_N_tokens += N_tokens\n",
    "            after_N_tokens += N_tokens\n",
    "    before_token_range, after_token_range = [before_N_tokens, before_N_tokens], [after_N_tokens, after_N_tokens]\n",
    "    for opi in range(min_opi, max_opi+1):\n",
    "        edit = edits[opi]\n",
    "        N_tokens = edit['N_words']\n",
    "        if edit['type'] == 'delete':\n",
    "            before += edit['delete']\n",
    "            before_token_range[1] += N_tokens\n",
    "        elif edit['type'] == 'insert':\n",
    "            after += edit['insert']\n",
    "            after_token_range[1] += N_tokens\n",
    "        else:\n",
    "            before += edit['text']\n",
    "            after += edit['text']\n",
    "            before_token_range[1] += N_tokens\n",
    "            after_token_range[1] += N_tokens\n",
    "    print(\"\\n>>===========================\")\n",
    "    print(\"before:\", before)\n",
    "    print(\" after:\", after)\n",
    "    print(\"before_token_range:\", before_token_range)\n",
    "    r_tokens = utils_diff.tokenize(sample['r_content'])\n",
    "    print(r_tokens[before_token_range[0]: before_token_range[1]])\n",
    "    s_tokens = utils_diff.tokenize(sample['s_content'])\n",
    "    print(\"after_token_range:\", after_token_range)\n",
    "    print(s_tokens[after_token_range[0]: after_token_range[1]])\n",
    "\n",
    "    print(\"===========================<<\\n\")\n",
    "\n",
    "    "
   ]
  },
  {
   "attachments": {},
   "cell_type": "markdown",
   "metadata": {},
   "source": [
    "# Entire dataset (~140k samples)"
   ]
  },
  {
   "cell_type": "code",
   "execution_count": 63,
   "metadata": {},
   "outputs": [
    {
     "name": "stdout",
     "output_type": "stream",
     "text": [
      "Size of dataset: 143359\n",
      "Example sample. Input (English Wikipedia) -> Output (Simple Wikipedia)\n",
      "{'input': \"Burnham-on-Sea is a seaside town in Somerset, England, at the mouth of the River Parrett, upon Bridgwater Bay. Burnham was a small fishing village until the late 18th century when it began to grow because of its popularity as a seaside resort.\\nBurnham-on-Sea forms part of the parish of Burnham-on-Sea and Highbridge and shares a town council with its neighbouring small market town of Highbridge. According to the 2011 census the population of the parish (including Highbridge) was 19,576, of which the most populous wards 'Burnham Central' and 'Burnham North'; totalled 13,601.\\nBurnham-on-Sea is most famous for its low lighthouse. The now-decommissioned lighthouse was built in 1832 and is a Grade-II listed building. The lighthouse is famous for its red and white striped facade.\\nThe position of the town on the edge of the Somerset Levels and moors where they meet the Bristol Channel, has resulted in a history dominated by land reclamation and sea defences since Roman times. Burnham was seriously affected by the Bristol Channel floods of 1607, with the present curved concrete wall being completed in 1988. There have been many shipwrecks on the Gore Sands, which lie just offshore and can be exposed at low tides. Lighthouses are hence prominent landmarks in the town, with the original lighthouse known as the Round Tower built to replace the light on the top of the 14th-century tower of St Andrews Church. The 110-foot (34-metre) pillar or High Lighthouse and the low wooden pile lighthouse or Lighthouse on legs on the beach were built to replace it. The town's first lifeboat was provided in 1836 by the Corporation of Bridgwater.\", 'output': 'Burnham-on-Sea is a small town in the county of Somerset in England on the mouth of the River Parrett at Bridgwater Bay. Burnham was a small fishing village until the late-18th century when it became popular as a seaside resort. This made the village grow larger into a town.'}\n"
     ]
    }
   ],
   "source": [
    "from collections import Counter\n",
    "import json, random\n",
    "\n",
    "with open(\"data/swipe_full.json\", \"r\") as f:\n",
    "    swipe_full = json.load(f)\n",
    "\n",
    "print(\"Size of dataset: %d\" % (len(swipe_full)))\n",
    "\n",
    "sample = random.choice(swipe_full)\n",
    "print(\"Example sample. Input (English Wikipedia) -> Output (Simple Wikipedia)\")\n",
    "print(sample)"
   ]
  },
  {
   "cell_type": "code",
   "execution_count": 64,
   "metadata": {},
   "outputs": [
    {
     "name": "stdout",
     "output_type": "stream",
     "text": [
      "Burnham-on-Sea is a\u001b[1;31mseaside\u001b[0m\u001b[1;32msmall\u001b[0m town in\u001b[1;32mthe county of\u001b[0m Somerset\u001b[1;31m,\u001b[0m\u001b[1;32min\u001b[0m England\u001b[1;31m, at\u001b[0m\u001b[1;32mon\u001b[0m the mouth of the River Parrett\u001b[1;31m, upon\u001b[0m\u001b[1;32mat\u001b[0m Bridgwater Bay. Burnham was a small fishing village until the\u001b[1;31mlate 18th\u001b[0m\u001b[1;32mlate-18th\u001b[0m century when it\u001b[1;31mbegan to grow because of its popularity\u001b[0m\u001b[1;32mbecame popular\u001b[0m as a seaside resort.\u001b[1;31mBurnham-on-Sea forms part of\u001b[0m\u001b[1;32mThis made\u001b[0m the\u001b[1;31mparish of Burnham-on-Sea and Highbridge and shares\u001b[0m\u001b[1;32mvillage grow larger into\u001b[0m a town\u001b[1;31mcouncil with its neighbouring small market town of Highbridge\u001b[0m.\u001b[1;31mAccording to the 2011 census the population of the parish(including Highbridge) was 19,576, of which the most populous wards'Burnham Central' and'Burnham North'; totalled 13,601. Burnham-on-Sea is most famous for its low lighthouse. The now-decommissioned lighthouse was built in 1832 and is a Grade-II listed building. The lighthouse is famous for its red and white striped facade. The position of the town on the edge of the Somerset Levels and moors where they meet the Bristol Channel, has resulted in a history dominated by land reclamation and sea defences since Roman times. Burnham was seriously affected by the Bristol Channel floods of 1607, with the present curved concrete wall being completed in 1988. There have been many shipwrecks on the Gore Sands, which lie just offshore and can be exposed at low tides. Lighthouses are hence prominent landmarks in the town, with the original lighthouse known as the Round Tower built to replace the light on the top of the 14th-century tower of St Andrews Church. The 110-foot(34-metre) pillar or High Lighthouse and the low wooden pile lighthouse or Lighthouse on legs on the beach were built to replace it. The town's first lifeboat was provided in 1836 by the Corporation of Bridgwater.\u001b[0m\n"
     ]
    }
   ],
   "source": [
    "import utils_diff\n",
    "\n",
    "# To make the edits between the input to the output\n",
    "print(utils_diff.make_colored_text(sample[\"input\"], sample[\"output\"]))"
   ]
  }
 ],
 "metadata": {
  "kernelspec": {
   "display_name": "base",
   "language": "python",
   "name": "python3"
  },
  "language_info": {
   "codemirror_mode": {
    "name": "ipython",
    "version": 3
   },
   "file_extension": ".py",
   "mimetype": "text/x-python",
   "name": "python",
   "nbconvert_exporter": "python",
   "pygments_lexer": "ipython3",
   "version": "3.10.13"
  },
  "orig_nbformat": 4
 },
 "nbformat": 4,
 "nbformat_minor": 2
}
